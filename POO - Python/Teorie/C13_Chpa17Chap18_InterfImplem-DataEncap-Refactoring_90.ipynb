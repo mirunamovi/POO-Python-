{
 "cells": [
  {
   "cell_type": "markdown",
   "metadata": {},
   "source": [
    "# Chapter 17. Classes and Methods\n",
    "## 17.11. Interface and implementation "
   ]
  },
  {
   "cell_type": "markdown",
   "metadata": {},
   "source": [
    "One of the goals of __object-oriented design__ is to make software more _maintainable_, which means that you can keep the program working when other parts of the system change, and modify the program to meet new requirements.\n",
    "\n",
    "A <u>__design principle__</u> that helps achieve that goal is to __keep interfaces separate from implementations__. For objects, that means that <font color='green'>the methods a class provides (<font color='red'>implementation</font>) should not depend on how the attributes are represented (<font color='red'>interface</font>)</font> and <font color='green'>we have to hide the attributes from the implementation</font>.\n",
    "\n",
    "I we design the interface carefully, __we can change the implementation without changing the interface__, which means that other parts of the program don't have to change. \n",
    "\n",
    "Code in other parts of the program, meaning outside the class definition, should use _methods_ to read and modify the state of the object. <font color='green'>They should not access the attributes directly</font>. This principle is called __information hiding__. \n",
    "\n",
    "\n"
   ]
  },
  {
   "cell_type": "markdown",
   "metadata": {},
   "source": [
    "## Exercise 17.6\n",
    "Download the code from this chapter http://thinkpython.com/code/Time2.py <font color='green'>Change the attributes</font> of <font color='orange'>Time</font> to be a single integer representing seconds since midnight. Then __modify the methods and the function__ <font color='orange'>int\\_to\\_time</font> to work with <font color='green'>the new interface</font>. You should <font color='red'>not have to modify</font> the test code in __\\_\\_main\\_\\___. When you are done, the output should be the same as before. Solution: http://thinkpython.com/code/Time2_soln.py"
   ]
  },
  {
   "cell_type": "markdown",
   "metadata": {},
   "source": [
    "\n",
    "EXAMPLES of using the terms __interface__ and __implementation__\n",
    "\n",
    "- [par.18.3] The built-in function __cmp__ has the same _interface_ as the method __\\_\\_cmp\\_\\___: it takes two values ... \n",
    "- [par.18.9] Here’s a __program design suggestion__: whenever you override a method, the _interface_ of the new method <font color='green'>should be the same as the old</font>. It should take the same parameters, return the same type, and obey the same preconditions and postconditions. If you <u>obey / respect</u> this rule, you will find that any function designed to work with an instance of a superclass, like a <font color='orange'>Deck</font>, will also work with instances of subclasses like a <font color='orange'>Hand</font> or <font color='orange'>PokerHand</font>. If you <u>violate</u> this rule, your code will collapse like (sorry) _a house of cards_.\n",
    "- [par.18.1] One problem with this _implementation_ is that it would not be easy to compare cards to see which had a higher rank or suit.\n",
    "- [par. 17.8] Unfortunately, this _implementation_ of addition is not commutative.\n",
    "- API = Application Programming _Interface_\n",
    "- GUI = Graphical User _Interface_ \n",
    "- ...\n"
   ]
  },
  {
   "cell_type": "markdown",
   "metadata": {},
   "source": [
    "# Chapter 18. Inheritance\n",
    "## 18.10. Data encapsulation. Refactoring\n"
   ]
  },
  {
   "cell_type": "markdown",
   "metadata": {},
   "source": [
    "Chapter 16 demonstrates _a development plan_ we might call __object-oriented design__: we identified objects we needed <font color='orange'>Time</font>, <font color='orange'>Point</font> or <font color='orange'>Rectangle</font> and defined classes to represent them. In each case there is an obvious correspondence between the object and some entity in the real world (or at least a mathematical world). \n",
    "\n",
    "But sometimes it is less obvious what objects you need and how they should interact. In that case you need a different development plan. In the same way that we discovered <font color='green'>function interfaces</font> by __encapsulation and generalization__, we can discover <font color='green'>class interfaces</font> by __data encapsulation__.\n"
   ]
  },
  {
   "cell_type": "markdown",
   "metadata": {},
   "source": [
    "<hr>\n",
    "### 4.8 A development plan (page 37)\n",
    "<font color='green'>A _development plan_ is a process for writing programs</font>. \n",
    "\n",
    "The development plan called __encapsulation and generalization__ consists of the next steps for developing <font color='green'>functions interfaces</font>:\n",
    "1. Start by writing a small program with no _function_ definitions.\n",
    "2. Once you get the program working, __encapsulate__ it in a _function_ and give it a name.\n",
    "3. __Generalize__ the _function_ by adding appropriate parameters.\n",
    "4. Repeat steps 1–3 until you have a set of working _functions_. Copy and paste working code to avoid retyping (and re-debugging).\n",
    "5. Look for opportunities to improve the program by __refactoring__. For example, if you have similar code in several places, consider _factoring_ it into an appropriately general _function_.\n",
    "<hr>"
   ]
  },
  {
   "cell_type": "markdown",
   "metadata": {},
   "source": [
    "A development plan for designing <font color='green'>classes</font>, meaning objects and methods, is based on __data encapsulation__ and consists of the next steps:\n",
    "1. Start by writing _functions_ that read and write _global variables_ (when necessary).\n",
    "2. Once you get the program working, look for associations between _global variables_ and the _functions_ that use them.\n",
    "3. <font color='green'>Encapsulate related variables as __attributes__ of an object</font>.\n",
    "4. Transform the associated functions into <font color='green'>__methods__</font> of the new <font color='green'>__class__</font>.\n"
   ]
  },
  {
   "cell_type": "markdown",
   "metadata": {},
   "source": [
    "<hr>\n",
    "### 4.7 Refactoring (page 36)\n",
    "The process of re-arranging a program to improve function interfaces and facilitate code reuse is called __refactoring__. In the case of section 4.7. (see the examples), we noticed that there was similar code in <font color='orange'>arc</font>  and <font color='orange'>polygon</font>, so we ___factored it out___ into <font color='orange'>polyline</font>.\n",
    "\n",
    "If we had planned ahead, we might have written <font color='orange'>polyline</font> first and avoided refactoring, but often we don’t know enough at the beginning of a project to design all the interfaces. \n",
    "\n",
    "Once we start coding, we understand the problem better. <font color='blue'>Sometimes __refactoring__ is a sign that you have learned something.</font> \n",
    "\n",
    "<font color='blue'>No code is ever right the first (or second) time</font>. __Refactoring__ the code once you understand the problem and the design trade-offs more fully helps keep the code maintainable. [https://nsls-ii.github.io/scientific-python-cookiecutter/guiding-design-principles.html]"
   ]
  },
  {
   "cell_type": "markdown",
   "metadata": {},
   "source": [
    "## Exercise 18.5\n",
    "Download the code from sectionn 13.8 (http://thinkpython.com/code/markov.py) and follow the steps described above <font color='green'>to encapsulate the global variables as attributes</font> of a new class called <font color='orange'>Markov</font>. Solution: http://thinkpython.com/code/Markov.py\n"
   ]
  },
  {
   "cell_type": "markdown",
   "metadata": {},
   "source": [
    "EXAMPLES of using the terms __factoring__, __factorize__, __refactoring__\n",
    "\n",
    "- to factor = to calculate the prime factors of a number\n",
    "- te refactor = to (re)arrange the factors / the components into a better arrangement\n",
    "- code refactoring = the process of _restructuring_ existing computer code (changing the factoring) <font color='red'>without</font> changing its internal behaviour\n",
    "- refactoring = rearranging a program to improve function interfaces and facilitate code re-use; <font color='blue'>if there is similar code in two places, then we __factor it out__ into a new code/function</font>\n",
    "- ...\n"
   ]
  },
  {
   "cell_type": "markdown",
   "metadata": {},
   "source": [
    "## SUCCES!!!"
   ]
  },
  {
   "cell_type": "code",
   "execution_count": null,
   "metadata": {},
   "outputs": [],
   "source": []
  }
 ],
 "metadata": {
  "kernelspec": {
   "display_name": "Python 2",
   "language": "python",
   "name": "python2"
  },
  "language_info": {
   "codemirror_mode": {
    "name": "ipython",
    "version": 2
   },
   "file_extension": ".py",
   "mimetype": "text/x-python",
   "name": "python",
   "nbconvert_exporter": "python",
   "pygments_lexer": "ipython2",
   "version": "2.7.17"
  }
 },
 "nbformat": 4,
 "nbformat_minor": 2
}
