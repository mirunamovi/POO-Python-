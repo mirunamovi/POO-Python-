{
 "cells": [
  {
   "cell_type": "markdown",
   "metadata": {
    "collapsed": true
   },
   "source": [
    "# Clase si Obiecte. Capitolul 15"
   ]
  },
  {
   "cell_type": "markdown",
   "metadata": {},
   "source": [
    "## Ex. 5.1. Distanta intre doua puncte"
   ]
  },
  {
   "cell_type": "code",
   "execution_count": 6,
   "metadata": {},
   "outputs": [
    {
     "name": "stdout",
     "output_type": "stream",
     "text": [
      "abscisa primul punct = 10\n",
      "ordonata primului punct = 20\n",
      "abscisa punctului al doilea = 30\n",
      "ordonata punctului al doilea = 40\n",
      "Distanta este 28.284\n"
     ]
    }
   ],
   "source": [
    "import math\n",
    "class Point(object):\n",
    "    \"\"\"Represents a point in 2D space.\"\"\"\n",
    "\n",
    "def distanta(p1, p2):\n",
    "     return math.sqrt((p2.x-p1.x)**2+(p2.y-p1.y)**2)\n",
    "\n",
    "one = Point()\n",
    "two = Point()\n",
    "one.x = input(\"abscisa primul punct = \")\n",
    "one.y = input(\"ordonata primului punct = \")\n",
    "two.x = input(\"abscisa punctului al doilea = \")\n",
    "two.y = input(\"ordonata punctului al doilea = \")\n",
    "\n",
    "print \"Distanta este %.3f\" % distanta(one,two)\n",
    "\n"
   ]
  },
  {
   "cell_type": "markdown",
   "metadata": {},
   "source": [
    "## Ex.15.2. Mutare dreptunghi "
   ]
  },
  {
   "cell_type": "code",
   "execution_count": 10,
   "metadata": {},
   "outputs": [
    {
     "name": "stdout",
     "output_type": "stream",
     "text": [
      "abscisa coltului: 10\n",
      "ordonata coltului: 20\n",
      "lungimea (Ox): 100\n",
      "latimea (Oy): 200\n",
      "muta pe Ox: 5\n",
      "muta pe Oy: 3\n",
      "Initial:  10 20 100 200\n",
      "Final:  15 23 100 200\n"
     ]
    }
   ],
   "source": [
    "class Point(object):\n",
    "    \"\"\" Punctul \"\"\"\n",
    "    \n",
    "class Rectangle:\n",
    "    \"\"\" defineste dreptunghiul prin colt, lungime si latime\"\"\"\n",
    "\n",
    "def muta_dreptunghi(bbox, ddx, ddy):\n",
    "    \"\"\"Mutare dreptunghi \"\"\"\n",
    "    bbox.corner.x += ddx\n",
    "    bbox.corner.y += ddy\n",
    "    \n",
    "box = Rectangle()\n",
    "box.corner = Point()\n",
    "box.corner.x = int(input(\"abscisa coltului: \"))\n",
    "box.corner.y = int(input(\"ordonata coltului: \"))\n",
    "box.width = int (input(\"lungimea (Ox): \")) \n",
    "box.height = int (input(\"latimea (Oy): \")) \n",
    "\n",
    "dx = int(input(\"muta pe Ox: \"))\n",
    "dy = int(input(\"muta pe Oy: \"))\n",
    "\n",
    "print \"Initial: \", box.corner.x, box.corner.y, box.width, box. height\n",
    "muta_dreptunghi(box, dx, dy)\n",
    "print \"Final: \", box.corner.x, box.corner.y, box.width, box. height"
   ]
  },
  {
   "cell_type": "markdown",
   "metadata": {},
   "source": [
    "## Ex.15.3. Muta dreptunghi in dreptunghi NOU \n",
    "### (!) functie care returneaza dreptunghiul nou"
   ]
  },
  {
   "cell_type": "code",
   "execution_count": 12,
   "metadata": {},
   "outputs": [
    {
     "name": "stdout",
     "output_type": "stream",
     "text": [
      "abscisa coltului: 10\n",
      "ordonata coltului: 20\n",
      "lungimea (Ox): 30\n",
      "latimea (Oy): 40\n",
      "muta pe Ox: 5\n",
      "muta pe Oy: 3\n",
      " Initial:  10 20 30 40\n",
      "Final:  15 23 30 40\n"
     ]
    }
   ],
   "source": [
    "import copy \n",
    "\n",
    "class Point(object):\n",
    "    \"\"\" Punctul \"\"\"\n",
    "    \n",
    "class Rectangle:\n",
    "    \"\"\" defineste dreptunghiul prin colt, lungime si latime\"\"\"\n",
    "\n",
    "def muta_dreptunghi(bbox, ddx, ddy):\n",
    "    \"\"\"Mutare dreptunghi \"\"\"\n",
    "    new_bbox = copy.copy(bbox)\n",
    "    bbox.corner.x += ddx\n",
    "    bbox.corner.y += ddy\n",
    "    return new_bbox\n",
    "    \n",
    "box = Rectangle()\n",
    "box.corner = Point()\n",
    "box.corner.x = int(input(\"abscisa coltului: \"))\n",
    "box.corner.y = int(input(\"ordonata coltului: \"))\n",
    "box.width = int (input(\"lungimea (Ox): \")) \n",
    "box.height = int (input(\"latimea (Oy): \")) \n",
    "\n",
    "dx = int(input(\"muta pe Ox: \"))\n",
    "dy = int(input(\"muta pe Oy: \"))\n",
    "\n",
    "print \"Initial: \", box.corner.x, box.corner.y, box.width, box. height\n",
    "new_box = muta_dreptunghi(box, dx, dy)\n",
    "print \"Final: \", new_box.corner.x, new_box.corner.y, new_box.width, new_box. height\n"
   ]
  },
  {
   "cell_type": "markdown",
   "metadata": {},
   "source": [
    "## Alte probleme din capitolul 15\n",
    "### 15.4. --> Determina centrul de greutate al unui dreptunghi"
   ]
  },
  {
   "cell_type": "code",
   "execution_count": 28,
   "metadata": {},
   "outputs": [
    {
     "name": "stdout",
     "output_type": "stream",
     "text": [
      "Dreptunghi:  (0.0, 0.0) 100.0 200.0\n",
      "Centrul de greutate al dreptunghiului:  50.0 ,  100.0\n",
      "-------------------------\n",
      "Dreptunghi:  (0.0, 0.0) 100.0 200.0\n",
      "Centrul de greutate al dreptunghiului:  50.0 ,  100.0\n",
      "None\n"
     ]
    }
   ],
   "source": [
    "class Point(object):\n",
    "    \"\"\"Represents a point in 2D space.\"\"\"\n",
    "    \n",
    "def print_Point(point):\n",
    "    print point.x, \", \", point.y\n",
    "\n",
    "class Rectangle(object):\n",
    "    \"\"\"Represents a rectangle.\n",
    "    atributes:width,height,corner\"\"\"\n",
    "\n",
    "def find_center(r):\n",
    "    p=Point()\n",
    "    p.x=r.corner.x +r.width/2.0\n",
    "    p.y=r.corner.y +r.height/2.0\n",
    "    return p\n",
    "\n",
    "box=Rectangle()\n",
    "box.width=100.0\n",
    "box.height=200.0\n",
    "box.corner=Point()\n",
    "box.corner.x=0.0\n",
    "box.corner.y=0.0\n",
    "\n",
    "print \"Dreptunghi: \", (box.corner.x, box.corner.y), box.width, box.height\n",
    "print \"Centrul de greutate al dreptunghiului: \",\n",
    "print_Point(find_center(box))\n",
    "print \"-------------------------\"\n",
    "\n",
    "#Ce returneaza urmatoarea secventa de cod? Justificati raspunsul. \n",
    "print \"Dreptunghi: \", (box.corner.x, box.corner.y), box.width, box.height\n",
    "print \"Centrul de greutate al dreptunghiului: \", print_Point(find_center(box))"
   ]
  },
  {
   "cell_type": "markdown",
   "metadata": {},
   "source": [
    "### 15.5 --> Scaleaza dreptunghi - obiectul este modificabil - prin atributele lui"
   ]
  },
  {
   "cell_type": "code",
   "execution_count": 29,
   "metadata": {},
   "outputs": [
    {
     "name": "stdout",
     "output_type": "stream",
     "text": [
      "Dreptunghi dat:( 0.0 , 0.0 ) 100.0 200.0\n",
      "Dreptunghi scalat:( 0.0 , 0.0 ) 150.0 300.0\n"
     ]
    }
   ],
   "source": [
    "class Point(object):\n",
    "    \"\"\"Represents a point in 2D space.\"\"\"\n",
    "    \n",
    "def print_Point(point):\n",
    "    print point.x, \", \", point.y\n",
    "    \n",
    "class Rectangle(object):\n",
    "    \"\"\"Represents a rectangle.\n",
    "    atributes:width,height,corner\"\"\"\n",
    "\n",
    "def grow_rectangle(dr,dwidth,dheight):\n",
    "    dr.width = dr.width + dwidth \n",
    "    dr.height = dr.height + dheight\n",
    "\n",
    "box=Rectangle()\n",
    "box.width=100.0\n",
    "box.height=200.0\n",
    "box.corner=Point()\n",
    "box.corner.x=0.0\n",
    "box.corner.y=0.0\n",
    "\n",
    "print \"Dreptunghi dat:(\", box.corner.x, \",\", box.corner.y, \")\", box.width, box.height\n",
    "grow_rectangle(box,50,100)\n",
    "print \"Dreptunghi scalat:(\", box.corner.x, \",\", box.corner.y, \")\", box.width, box.height\n"
   ]
  },
  {
   "cell_type": "markdown",
   "metadata": {},
   "source": [
    "### (Q) Este OBLIGATORIU comentariul multi-linie dupa definirea clasei?\n",
    "### (A) Este nevoie de cel putin o linie de cod in corpul clasei; in lipsa de linii proprii, se adauga o linie \"moarta\", adica un comentariu"
   ]
  },
  {
   "cell_type": "code",
   "execution_count": 7,
   "metadata": {},
   "outputs": [
    {
     "name": "stdout",
     "output_type": "stream",
     "text": [
      "(10, ',', 20)\n",
      "1abracadabra\n",
      "2abracadabra\n",
      "3abracadabra\n"
     ]
    }
   ],
   "source": [
    "# fara comentariu in corpul clasei\n",
    "class Point(object):\n",
    "    def print_point(p):\n",
    "        print(p.x,',',p.y)\n",
    "    \n",
    "punct = Point()\n",
    "punct.x=10\n",
    "punct.y=20\n",
    "\n",
    "punct.print_point()\n",
    "print '1abracadabra'\n",
    "\n",
    "# ---------------------\n",
    "# doar comentariu in corpul clasei\n",
    "class Point(object):\n",
    "    \"\"\"def print_point(p):\n",
    "        print(p.x,',',p.y)\"\"\"\n",
    "    \n",
    "punct = Point()\n",
    "punct.x=10\n",
    "punct.y=20\n",
    "\n",
    "#punct.print_point()\n",
    "print '2abracadabra'\n",
    "\n",
    "# ----------------------\n",
    "# corpul clasei fara linii de cod --> eroare \"de indentare\" pentru linia urmatoare\n",
    "\n",
    "#class Point(object):\n",
    "        \n",
    "punct = Point()\n",
    "punct.x=10\n",
    "punct.y=20\n",
    "\n",
    "#punct.print_point()\n",
    "print '3abracadabra'"
   ]
  },
  {
   "cell_type": "markdown",
   "metadata": {},
   "source": [
    "### La COPIEREA un obiect cu copy.copy(obiect), obiectele incapsulate vor avea aceeasi referinta; se copiaza / se creeaza obiecte diferite, dar ambele refera ACELASI obiect INCAPSULAT"
   ]
  },
  {
   "cell_type": "code",
   "execution_count": 5,
   "metadata": {},
   "outputs": [
    {
     "name": "stdout",
     "output_type": "stream",
     "text": [
      "10\n"
     ]
    }
   ],
   "source": [
    "import copy\n",
    "\n",
    "class Rectangle(object):\n",
    "    \"\"\"Represents a rectangle. \n",
    "\n",
    "    attributes: width, height, corner.\n",
    "    \"\"\"\n",
    "\n",
    "class Point():\n",
    "    \"\"\" Represents a point.\"\"\"\n",
    "\n",
    "box = Rectangle()\n",
    "box.width = 100.0\n",
    "box.height = 200.0\n",
    "box.corner = Point() # corner este incapsulat in box\n",
    "box.corner.x = 0.0\n",
    "box.corner.y = 0.0\n",
    "\n",
    "boxx = copy.copy(box)\n",
    "\n",
    "boxx.corner.x = 10 # modific valoarea atributului lui boxx.corner\n",
    "print box.corner.x # se  modifica si valoarea atributului lui box.corner"
   ]
  },
  {
   "cell_type": "code",
   "execution_count": null,
   "metadata": {},
   "outputs": [],
   "source": []
  }
 ],
 "metadata": {
  "kernelspec": {
   "display_name": "Python 2",
   "language": "python",
   "name": "python2"
  },
  "language_info": {
   "codemirror_mode": {
    "name": "ipython",
    "version": 2
   },
   "file_extension": ".py",
   "mimetype": "text/x-python",
   "name": "python",
   "nbconvert_exporter": "python",
   "pygments_lexer": "ipython2",
   "version": "2.7.17"
  }
 },
 "nbformat": 4,
 "nbformat_minor": 2
}
