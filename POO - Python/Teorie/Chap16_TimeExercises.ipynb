{
 "cells": [
  {
   "cell_type": "code",
   "execution_count": null,
   "metadata": {
    "collapsed": true
   },
   "outputs": [],
   "source": [
    "# Chapter 16. Classes and Functions"
   ]
  },
  {
   "cell_type": "code",
   "execution_count": 1,
   "metadata": {},
   "outputs": [
    {
     "name": "stdout",
     "output_type": "stream",
     "text": [
      "10:58:40\n"
     ]
    }
   ],
   "source": [
    "#Exercise 16.1\n",
    "class Time(object):\n",
    "    \"\"\" represents the time of day.\"\"\"\n",
    "time=Time()\n",
    "time.hour = 10\n",
    "time.minute = 58\n",
    "time.second = 40\n",
    "\n",
    "def print_time(t):\n",
    "    print \"%.2d:%.2d:%.2d\" % (t.hour, t.minute, t.second)\n",
    "\n",
    "print_time(time)\n"
   ]
  },
  {
   "cell_type": "code",
   "execution_count": 1,
   "metadata": {},
   "outputs": [
    {
     "name": "stdout",
     "output_type": "stream",
     "text": [
      "False\n"
     ]
    }
   ],
   "source": [
    "#Exercise 16.2\n",
    "class Time(object):\n",
    "    \"\"\" Represents the time of day.\"\"\"\n",
    "t1=Time()\n",
    "t2=Time()\n",
    "t1.hour=9\n",
    "t1.minute=59\n",
    "t1.second=30\n",
    "t2.hour=10\n",
    "t2.minute=57\n",
    "t2.second=30\n",
    "def is_after(t1,t2):\n",
    "    a=3600*t1.hour+60*t1.minute+t1.second\n",
    "    b=3600*t2.hour+60*t2.minute+t2.second\n",
    "    return a>b\n",
    "\n",
    "# THINK ABOUT... the next definition of the same function...\n",
    "def is_after_T(t1,t2):\n",
    "    return (t1.hour, t1.minute, t1.second) > (t2.hour, t2.minute, t2.second)\n",
    "# What does the \"T\" from the name of the function stand for? \n",
    "#T vine de la Tuple, programatorul valorificand faptul ca Python stie sa compare tuple element cu element\n",
    "print is_after(t1, t2)\n"
   ]
  },
  {
   "cell_type": "code",
   "execution_count": 1,
   "metadata": {},
   "outputs": [
    {
     "name": "stdout",
     "output_type": "stream",
     "text": [
      "Timpul original: 10:37:50\n",
      "Secunde in plus 450 \n",
      "Noul timp: 10:45:20\n"
     ]
    }
   ],
   "source": [
    "#Exercise 16.3\n",
    "#increment - without any loop --> MODIFIER\n",
    "class Time(object):\n",
    "    \"\"\" represents the time of day. \"\"\"\n",
    "\n",
    "time = Time()\n",
    "time.hour = 10\n",
    "time.minute = 37\n",
    "time.second = 50\n",
    "\n",
    "def increment(time, seconds):\n",
    "    print (\"Timpul original: %.2d:%.2d:%.2d\"% (time.hour, time.minute, time.second))\n",
    "\n",
    "    time.second += seconds\n",
    "    if time.second > 59:\n",
    "        cat, rest = divmod(time.second, 60)\n",
    "        time.minute += cat\n",
    "        time.second = rest\n",
    "    if time.minute > 59:\n",
    "        cat, rest = divmod(time.minute, 60)\n",
    "        time.hour += cat\n",
    "        time.minute = rest\n",
    "    print \"Secunde in plus %g \" % (seconds)\n",
    "    print \"Noul timp: %.2d:%.2d:%.2d\" % (time.hour, time.minute, time.second)\n",
    "\n",
    "increment(time,450)"
   ]
  },
  {
   "cell_type": "code",
   "execution_count": 25,
   "metadata": {},
   "outputs": [
    {
     "name": "stdout",
     "output_type": "stream",
     "text": [
      "Timpul initial 10 37 50\n",
      "Secunde in plus 1350\n",
      "Noul timp: 1 0 20\n"
     ]
    }
   ],
   "source": [
    "#Exercise 16.4\n",
    "#increment --> PURE FUNCTION\n",
    "class Time(object):\n",
    "    \"\"\" represents the time of day. \"\"\"\n",
    "\n",
    "def increment(t,seconds):\n",
    "    \n",
    "    tOut = Time()\n",
    "    minutes, tOut.second = divmod(t.second+seconds, 60)\n",
    "    tOut.hour, tOut.minute = divmod(t.minute+minutes, 60)\n",
    "    \n",
    "    return tOut\n",
    "\n",
    "time = Time()\n",
    "time.hour = 10\n",
    "time.minute = 37\n",
    "time.second = 50\n",
    "\n",
    "print \"Timpul initial\", time.hour, time.minute, time.second\n",
    "print \"Secunde in plus\", 1350\n",
    "timeOut = increment(time,1350)\n",
    "print \"Noul timp:\", timeOut.hour, timeOut.minute, timeOut.second\n"
   ]
  },
  {
   "cell_type": "code",
   "execution_count": 34,
   "metadata": {},
   "outputs": [
    {
     "name": "stdout",
     "output_type": "stream",
     "text": [
      "Timpul initial: 10:55:30\n",
      "Noul timp : 11:01:20\n"
     ]
    }
   ],
   "source": [
    "#Exercise 16.5\n",
    "\n",
    "class Time(object):\n",
    "    \"\"\" represents the time of day. \"\"\"\n",
    "    \n",
    "time = Time()\n",
    "time.hour = 10\n",
    "time.minute = 55\n",
    "time.second = 30\n",
    "\n",
    "def time_to_int(t):\n",
    "    minutes = t.hour * 60 + t.minute\n",
    "    seconds = minutes * 60 + t.second\n",
    "    return seconds\n",
    "\n",
    "def int_to_time(seconds):\n",
    "    t = Time()\n",
    "    minutes, t.second = divmod(seconds, 60)\n",
    "    t.hour, t.minute = divmod(minutes, 60)\n",
    "    return t\n",
    "\n",
    "def increment(t, seconds):\n",
    "    return int_to_time(time_to_int(t) + seconds)\n",
    "    \n",
    "print (\"Timpul initial: %.2d:%.2d:%.2d\"% (time.hour, time.minute, time.second))\n",
    "new_time = increment(time, 350)\n",
    "print (\"Noul timp : %.2d:%.2d:%.2d\"% (new_time.hour, new_time.minute, new_time.second))\n"
   ]
  },
  {
   "cell_type": "code",
   "execution_count": 35,
   "metadata": {},
   "outputs": [
    {
     "name": "stdout",
     "output_type": "stream",
     "text": [
      "Timpul initial: 05:30:20\n",
      "Noul timp: 22:01:20\n"
     ]
    }
   ],
   "source": [
    "#Exercise 16.6\n",
    "class Time(object):\n",
    "    \"\"\" represents the time of day.\"\"\"\n",
    "\n",
    "def time_to_int(time):\n",
    "    minutes = time.hour * 60 + time.minute\n",
    "    seconds = minutes * 60 + time.second\n",
    "    return seconds\n",
    "\n",
    "def int_to_time(seconds):\n",
    "    t = Time()\n",
    "    minutes, t.second = divmod(seconds, 60)\n",
    "    t.hour, t.minute = divmod(minutes, 60)\n",
    "    return t\n",
    "\n",
    "def mul_time(time, multiply): \n",
    "    return int_to_time(time_to_int(time) * multiply)\n",
    "\n",
    "time = Time()\n",
    "time.hour = 5\n",
    "time.minute = 30\n",
    "time.second = 20\n",
    "\n",
    "print (\"Timpul initial: %.2d:%.2d:%.2d\" % (time.hour, time.minute, time.second))\n",
    "\n",
    "new_time = mul_time(time, 4)\n",
    "print (\"Noul timp: %.2d:%.2d:%.2d\" % (new_time.hour, new_time.minute, new_time.second))\n",
    "\n"
   ]
  },
  {
   "cell_type": "code",
   "execution_count": 36,
   "metadata": {},
   "outputs": [],
   "source": [
    "#Exercise 16.7. \n",
    "#TO DO"
   ]
  },
  {
   "cell_type": "code",
   "execution_count": null,
   "metadata": {
    "collapsed": true
   },
   "outputs": [],
   "source": []
  }
 ],
 "metadata": {
  "kernelspec": {
   "display_name": "Python 2",
   "language": "python",
   "name": "python2"
  },
  "language_info": {
   "codemirror_mode": {
    "name": "ipython",
    "version": 2
   },
   "file_extension": ".py",
   "mimetype": "text/x-python",
   "name": "python",
   "nbconvert_exporter": "python",
   "pygments_lexer": "ipython2",
   "version": "2.7.17"
  }
 },
 "nbformat": 4,
 "nbformat_minor": 2
}
