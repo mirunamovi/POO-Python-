{
 "cells": [
  {
   "cell_type": "code",
   "execution_count": null,
   "metadata": {
    "collapsed": true
   },
   "outputs": [],
   "source": [
    "# Chapter 17. Classes and Methods\n",
    "# First part: Object-oriented features, Printing objects, The special methods, \n",
    "#             Operator overloading"
   ]
  },
  {
   "cell_type": "code",
   "execution_count": 1,
   "metadata": {},
   "outputs": [
    {
     "name": "stdout",
     "output_type": "stream",
     "text": [
      "09:45:00\n"
     ]
    }
   ],
   "source": [
    "#Printing objects\n",
    "class Time(object):\n",
    "    \"\"\" Represents the time of day\"\"\"\n",
    "def  print_time(time):\n",
    "    print '%.2d:%.2d:%.2d'%(time.hour, time.minutes, time.second)\n",
    "start=Time()\n",
    "start.hour=9\n",
    "start.minutes=45\n",
    "start.second=00\n",
    "print_time(start)"
   ]
  },
  {
   "cell_type": "code",
   "execution_count": 2,
   "metadata": {},
   "outputs": [
    {
     "name": "stdout",
     "output_type": "stream",
     "text": [
      "35750\n"
     ]
    }
   ],
   "source": [
    "# Exercise 17.1\n",
    "# rewrite time_to_int as a METHOD\n",
    "\n",
    "class Time(object):\n",
    "    def time_to_int(self):\n",
    "        minutes = time.hour * 60 + time.minute\n",
    "        seconds = minutes * 60 + time.second\n",
    "        return seconds\n",
    "    # It is not appropriate to rewrite <int-to-time()> as a method \n",
    "    # because there is no object to invoke it on :) \n",
    "    # <int_to_time()> remains a function in a complete program; \n",
    "\n",
    "time = Time()\n",
    "time.hour = 9\n",
    "time.minute = 55\n",
    "time.second = 50\n",
    "\n",
    "print time.time_to_int()"
   ]
  },
  {
   "cell_type": "code",
   "execution_count": 5,
   "metadata": {},
   "outputs": [
    {
     "name": "stdout",
     "output_type": "stream",
     "text": [
      "09:45:00\n",
      "10:07:17\n"
     ]
    }
   ],
   "source": [
    "# Example from Section 17.3\n",
    "# increment as a METHOD (it rewrites the function from Section 16.3)\n",
    "class Time(object):\n",
    "    def print_time(self):\n",
    "        print '%.2d:%.2d:%.2d'%(self.hour,self.minute,self.second)\n",
    "    def time_to_int(self):\n",
    "        return self.hour*3600+self.minute*60+self.second\n",
    "    def increment(self,seconds):\n",
    "        seconds+=self.time_to_int()\n",
    "        return int_to_time(seconds)\n",
    "def int_to_time(seconds):\n",
    "    t = Time()\n",
    "    minutes,t.second = divmod(seconds,60)\n",
    "    t.hour,t.minute = divmod(minutes,60)\n",
    "    return t       \n",
    "\n",
    "start = Time()\n",
    "start.hour=9\n",
    "start.minute=45\n",
    "start.second=00\n",
    "start.print_time()\n",
    "end = start.increment(1337)\n",
    "end.print_time()\n"
   ]
  },
  {
   "cell_type": "code",
   "execution_count": 8,
   "metadata": {},
   "outputs": [
    {
     "name": "stdout",
     "output_type": "stream",
     "text": [
      "09:45:00\n",
      "10:07:17\n",
      "True\n"
     ]
    }
   ],
   "source": [
    "# Example from Section 17.4\n",
    "# is_after as a METHOD (it rewrites the function from Section 16.2)\n",
    "class Time(object):\n",
    "    def print_time(self):\n",
    "        print '%.2d:%.2d:%.2d'%(self.hour,self.minute,self.second)\n",
    "    def time_to_int(self):\n",
    "        return self.hour*3600+self.minute*60+self.second\n",
    "    def increment(self,seconds):\n",
    "        seconds+=self.time_to_int()\n",
    "        return int_to_time(seconds)   \n",
    "    def is_after(self,other):\n",
    "        return self.time_to_int() > other.time_to_int()\n",
    "def int_to_time(seconds):\n",
    "    t = Time()\n",
    "    minutes,t.second = divmod(seconds,60)\n",
    "    t.hour,t.minute = divmod(minutes,60)\n",
    "    return t \n",
    "\n",
    "start = Time()\n",
    "start.hour=9\n",
    "start.minute=45\n",
    "start.second=00\n",
    "start.print_time()\n",
    "end = start.increment(1337)\n",
    "end.print_time()\n",
    "\n",
    "print end.is_after(start)\n",
    "#!!!!!!!!!!!!!!!!!!!!!!!!!!!!!!!!!!!!!!!!!!!!!!!!!!!!!!!!!\n",
    "#end = becomes subject = the first parameter of is_after \n",
    "#start = remains object = the second parameter of is_after"
   ]
  },
  {
   "cell_type": "code",
   "execution_count": 19,
   "metadata": {},
   "outputs": [
    {
     "name": "stdout",
     "output_type": "stream",
     "text": [
      "00:00:00\n",
      "09:50:00\n",
      "09:45:00\n"
     ]
    }
   ],
   "source": [
    "#Metode speciale \n",
    "class Time(object):\n",
    "    def print_time(self):\n",
    "        print '%.2d:%.2d:%.2d'%(self.hour,self.minute,self.second)       \n",
    "    def __init__(self,hour=0,minute=0,second=0):\n",
    "            self.hour = hour\n",
    "            self.minute = minute\n",
    "            self.second =second\n",
    "    def __str__(self):\n",
    "        return '%.2d:%.2d:%.2d' % (self.hour, self.minute, self.second)\n",
    "time=Time()\n",
    "time.print_time()\n",
    "time=Time(9,50)\n",
    "time.print_time()\n",
    "time=Time(9,45) \n",
    "print time"
   ]
  },
  {
   "cell_type": "code",
   "execution_count": 1,
   "metadata": {},
   "outputs": [
    {
     "name": "stdout",
     "output_type": "stream",
     "text": [
      "x = 0 , y = 0\n",
      "x = 30 , y = 0\n",
      "x = 40 , y = 50\n"
     ]
    }
   ],
   "source": [
    "# Exercise 17.2\n",
    "# add the special method __init__ to the class POINT from Chapter 15\n",
    "\n",
    "class Point(object):\n",
    "    def __init__(self, x=0, y=0):\n",
    "        self.x = x\n",
    "        self.y = y\n",
    "\n",
    "    def print_point(self):\n",
    "        print \"x =\", self.x, \",\",\n",
    "        print \"y =\", self.y\n",
    "\n",
    "point = Point()\n",
    "point.print_point()\n",
    "\n",
    "point = Point(30)\n",
    "point.print_point()\n",
    "\n",
    "point = Point(40, 50)\n",
    "point.print_point()"
   ]
  },
  {
   "cell_type": "code",
   "execution_count": 4,
   "metadata": {},
   "outputs": [
    {
     "name": "stdout",
     "output_type": "stream",
     "text": [
      "(0, 0)\n",
      "(20, 0)\n",
      "(20, 25)\n"
     ]
    }
   ],
   "source": [
    "# Exercise 17.3\n",
    "# add the special method __str__ to the class POINT from Chapter 15\n",
    "\n",
    "class Point(object):\n",
    "    def __init__(self, x=0, y=0):\n",
    "        self.x = x\n",
    "        self.y = y\n",
    "\n",
    "    def __str__(self):\n",
    "        return '(%d, %d)' % (self.x, self.y)\n",
    "\n",
    "point = Point()\n",
    "print point\n",
    "\n",
    "point = Point(20)\n",
    "print point\n",
    "\n",
    "point = Point(20, 25)\n",
    "print point"
   ]
  },
  {
   "cell_type": "code",
   "execution_count": 5,
   "metadata": {},
   "outputs": [
    {
     "name": "stdout",
     "output_type": "stream",
     "text": [
      "(11, 14)\n"
     ]
    }
   ],
   "source": [
    "# Exercise 17.4\n",
    "# add the special method __add__ to the class POINT from Chapter 15\n",
    "class Point(object):\n",
    "    def __init__(self, x=0, y=0):\n",
    "        self.x = x\n",
    "        self.y = y\n",
    "\n",
    "    def __str__(self):\n",
    "        return '(%d, %d)' % (self.x, self.y)\n",
    "\n",
    "    def __add__(self, other):\n",
    "        x = self.x + other.x\n",
    "        y = self.y + other.y\n",
    "        return Point(x, y)\n",
    "\n",
    "point1 = Point(4, 5)\n",
    "point2 = Point(7, 9)\n",
    "\n",
    "print point1 + point2  "
   ]
  },
  {
   "cell_type": "code",
   "execution_count": null,
   "metadata": {
    "collapsed": true
   },
   "outputs": [],
   "source": []
  }
 ],
 "metadata": {
  "kernelspec": {
   "display_name": "Python 2",
   "language": "python",
   "name": "python2"
  },
  "language_info": {
   "codemirror_mode": {
    "name": "ipython",
    "version": 2
   },
   "file_extension": ".py",
   "mimetype": "text/x-python",
   "name": "python",
   "nbconvert_exporter": "python",
   "pygments_lexer": "ipython2",
   "version": "2.7.17"
  }
 },
 "nbformat": 4,
 "nbformat_minor": 2
}
