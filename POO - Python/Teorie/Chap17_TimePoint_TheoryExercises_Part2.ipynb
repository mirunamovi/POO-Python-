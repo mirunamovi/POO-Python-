{
 "cells": [
  {
   "cell_type": "markdown",
   "metadata": {
    "collapsed": true
   },
   "source": [
    "# Chapter 17. Classes and Methods\n",
    "# Second Part: Type-based dispatch, Polymorphism"
   ]
  },
  {
   "cell_type": "markdown",
   "metadata": {},
   "source": [
    "## Exercise 17.5\n",
    "Write an \"add\" method for Points that works either a point onject or a tuple."
   ]
  },
  {
   "cell_type": "code",
   "execution_count": 6,
   "metadata": {},
   "outputs": [
    {
     "name": "stdout",
     "output_type": "stream",
     "text": [
      "(6, 8) (6, 8)\n"
     ]
    }
   ],
   "source": [
    "\n",
    "class Point(object):\n",
    "    def __init__(self, x=0, y=0):\n",
    "        self.x = x\n",
    "        self.y = y\n",
    "\n",
    "    def __add__(self, other):\n",
    "        point_ = Point()\n",
    "        if isinstance(other, Point):\n",
    "            point_.x += self.x + other.x\n",
    "            point_.y += self.y + other.y\n",
    "            return point_\n",
    "        elif type(other) == tuple:\n",
    "            point_.x += self.x + other[0]\n",
    "            point_.y += self.y + other[1]\n",
    "        return point_\n",
    "\n",
    "    def __radd__(self, other):\n",
    "        return self.__add__(other)\n",
    "\n",
    "    def __str__(self):\n",
    "        return \"(%s, %s)\" % (self.x, self.y)\n",
    "\n",
    "point1 = Point(1, 6)\n",
    "point2 = (5, 2)\n",
    "point3 = point1 + point2\n",
    "point4 = point2 + point1\n",
    "print point3, point4"
   ]
  },
  {
   "cell_type": "markdown",
   "metadata": {
    "collapsed": true
   },
   "source": [
    "## Exercise 17.6\n",
    "Download the code from this chapter (http://thinkpython.com/code/Time2.py) and...\n",
    "\n",
    "Solution: http://thinkpython.com/code/Time2_soln.py"
   ]
  },
  {
   "cell_type": "markdown",
   "metadata": {},
   "source": [
    "## Exercise 17.7\n",
    "class Kangaroo(object):\n",
    "\n",
    "    \"\"\"a cautionary tale about one of the most common, \n",
    "       and difficult to find, errors in Python\"\"\"\n",
    "\n",
    "http://thinkpython.com/code/BadKangaroo.py\n",
    "http://thinkpython.com/code/GoodKangaroo.py"
   ]
  },
  {
   "cell_type": "markdown",
   "metadata": {},
   "source": [
    "## Exercise 17.8\n",
    "Use the Visual Python module that provides 3-D graphics. \n",
    "\n",
    "http://thinkpython.com/code/color_space.py"
   ]
  },
  {
   "cell_type": "code",
   "execution_count": null,
   "metadata": {},
   "outputs": [],
   "source": []
  }
 ],
 "metadata": {
  "kernelspec": {
   "display_name": "Python 2",
   "language": "python",
   "name": "python2"
  },
  "language_info": {
   "codemirror_mode": {
    "name": "ipython",
    "version": 2
   },
   "file_extension": ".py",
   "mimetype": "text/x-python",
   "name": "python",
   "nbconvert_exporter": "python",
   "pygments_lexer": "ipython2",
   "version": "2.7.17"
  }
 },
 "nbformat": 4,
 "nbformat_minor": 2
}
