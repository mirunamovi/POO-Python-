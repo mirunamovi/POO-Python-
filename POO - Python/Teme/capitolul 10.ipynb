{
 "cells": [
  {
   "cell_type": "markdown",
   "metadata": {},
   "source": [
    "**10.1** Write a function called nested_sum that takes a nested list of integers and add up\n",
    "the elements from all of the nested lists."
   ]
  },
  {
   "cell_type": "code",
   "execution_count": 2,
   "metadata": {},
   "outputs": [
    {
     "name": "stdout",
     "output_type": "stream",
     "text": [
      "40\n"
     ]
    }
   ],
   "source": [
    "def nested_sum(lista):\n",
    "    s = 0\n",
    "    for i in range(len(lista)):\n",
    "        if type(lista[i]) == list:\n",
    "            lista[i] = nested_sum(lista[i])\n",
    "    return sum(lista)\n",
    "\n",
    "print nested_sum([5 , 5, [5, 5], [5, [5, 5] ,5]])  "
   ]
  },
  {
   "cell_type": "markdown",
   "metadata": {},
   "source": [
    "**10.2** Use capitalize_all to write a function named capitalize_nested that takes\n",
    "a nested list of strings and returns a new nested list with all strings capitalized."
   ]
  },
  {
   "cell_type": "code",
   "execution_count": 5,
   "metadata": {},
   "outputs": [
    {
     "name": "stdout",
     "output_type": "stream",
     "text": [
      "['Romania', '200', ['Popescu', 'Abc'], ['Andrei', ['Bularia', 'Ad'], 'Abc']]\n"
     ]
    }
   ],
   "source": [
    "def capitalize_nested(lista):\n",
    "    res = []\n",
    "    for i in range(len(lista)):\n",
    "        if type(lista[i]) == list:\n",
    "            res.append(capitalize_nested(lista[i]))\n",
    "        else:\n",
    "            res.append(lista[i].capitalize())\n",
    "    return res\n",
    "            \n",
    "print capitalize_nested(['romania' , '200', ['Popescu', 'ABC'], ['Andrei', ['Bularia', 'ad'] ,'Abc']])       \n",
    "    "
   ]
  },
  {
   "cell_type": "markdown",
   "metadata": {},
   "source": [
    "**10.3** Write a function that takes a list of numbers and returns the cumulative sum; that\n",
    "is, a new list where the ith element is the sum of the first i + 1 elements from the original list. For\n",
    "example, the cumulative sum of [1, 2, 3] is [1, 3, 6]."
   ]
  },
  {
   "cell_type": "code",
   "execution_count": 9,
   "metadata": {},
   "outputs": [
    {
     "name": "stdout",
     "output_type": "stream",
     "text": [
      "[1, 3, 6]\n"
     ]
    }
   ],
   "source": [
    "def newlist_sum(lista):\n",
    "    s = 0\n",
    "    res = []\n",
    "    for i in range(len(lista)):\n",
    "        s += lista[i]\n",
    "        res.append(s)\n",
    "    return res\n",
    "print newlist_sum([1, 2, 3])        \n",
    "        "
   ]
  },
  {
   "cell_type": "markdown",
   "metadata": {},
   "source": [
    "**10.4** Write a function called middle that takes a list and returns a new list that contains\n",
    "all but the first and last elements. So middle([1,2,3,4]) should return [2,3]."
   ]
  },
  {
   "cell_type": "code",
   "execution_count": 12,
   "metadata": {},
   "outputs": [
    {
     "name": "stdout",
     "output_type": "stream",
     "text": [
      "[2, 3]\n"
     ]
    }
   ],
   "source": [
    "def middle(lista):\n",
    "    return lista[1:len(lista)-1]\n",
    "      \n",
    "print middle([1,2,3,4])\n",
    "    \n",
    "    \n",
    "    "
   ]
  },
  {
   "cell_type": "markdown",
   "metadata": {},
   "source": [
    "**10.5** Write a function called chop that takes a list, modifies it by removing the first and\n",
    "last elements, and returns None."
   ]
  },
  {
   "cell_type": "code",
   "execution_count": 14,
   "metadata": {},
   "outputs": [
    {
     "name": "stdout",
     "output_type": "stream",
     "text": [
      "[2, 3]\n"
     ]
    }
   ],
   "source": [
    "def chop(lista):\n",
    "    del(lista[0],lista[-1])\n",
    "    return lista\n",
    "\n",
    "print middle([1,2,3,4])"
   ]
  },
  {
   "cell_type": "markdown",
   "metadata": {},
   "source": [
    "**10.6** Write a function called is_sorted that takes a list as a parameter and returns True\n",
    "if the list is sorted in ascending order and False otherwise. You can assume (as a precondition) that\n",
    "the elements of the list can be compared with the relational operators <, >, etc.\n",
    "For example, is_sorted([1,2,2]) should return True and is_sorted(['b','a']) should return False.\n"
   ]
  },
  {
   "cell_type": "code",
   "execution_count": 16,
   "metadata": {},
   "outputs": [
    {
     "name": "stdout",
     "output_type": "stream",
     "text": [
      "True\n",
      "False\n"
     ]
    }
   ],
   "source": [
    "def is_sorted(lista):\n",
    "    lista1 = []\n",
    "    lista1.extend(lista)\n",
    "    lista.sort()\n",
    "    for i in range(len(lista)):\n",
    "        if lista[i]!=lista1[i]:\n",
    "            return False\n",
    "    return True \n",
    "\n",
    "print is_sorted([1, 2, 3, 4])\n",
    "print is_sorted(['b', 'a'])    \n",
    "    \n",
    "    \n",
    "    \n",
    "    "
   ]
  },
  {
   "cell_type": "markdown",
   "metadata": {},
   "source": [
    "**10.7** Two words are anagrams if you can rearrange the letters from one to spell the other.\n",
    "Write a function called is_anagram that takes two strings and returns True if they are anagrams.\n"
   ]
  },
  {
   "cell_type": "code",
   "execution_count": 17,
   "metadata": {},
   "outputs": [
    {
     "name": "stdout",
     "output_type": "stream",
     "text": [
      "False\n",
      "True\n",
      "False\n"
     ]
    }
   ],
   "source": [
    "def is_anagram(str1, str2):\n",
    "    if len(str1) != len(str2):\n",
    "        return False \n",
    "    lista1 = list(str1)\n",
    "    lista2 = list(str2)\n",
    "    lista1.sort()\n",
    "    lista2.sort()\n",
    "    for i in range(len(str1)):\n",
    "        if lista1[i] != lista2[i]:\n",
    "            return False \n",
    "    return True \n",
    "\n",
    "print is_anagram('abcde', 'abcder')\n",
    "print is_anagram('abcd', 'dabc')\n",
    "print is_anagram('ana', 'nan')    "
   ]
  },
  {
   "cell_type": "markdown",
   "metadata": {},
   "source": [
    "**10.9** Write a function called remove_duplicates that takes a list and returns a new\n",
    "list with only the unique elements from the original. Hint: they don’t have to be in the same order."
   ]
  },
  {
   "cell_type": "code",
   "execution_count": 24,
   "metadata": {},
   "outputs": [
    {
     "name": "stdout",
     "output_type": "stream",
     "text": [
      "[1, 1, 1, 1, 2, 3, 5, 5, 6]\n",
      "[1, 2, 3, 5, 6]\n"
     ]
    }
   ],
   "source": [
    "def remove_duplicates(lista):\n",
    "    lista.sort()\n",
    "    print lista \n",
    "    i = 0\n",
    "    x = len(lista)\n",
    "    while i < x - 1:\n",
    "        if lista[i] == lista[i+1]:\n",
    "            del(lista[i])\n",
    "            x -= 1\n",
    "        else:\n",
    "            i += 1\n",
    "    return lista\n",
    "print remove_duplicates([1, 1, 1, 2, 3, 5, 5, 6, 1])\n",
    "    \n",
    "    "
   ]
  },
  {
   "cell_type": "code",
   "execution_count": null,
   "metadata": {},
   "outputs": [],
   "source": []
  }
 ],
 "metadata": {
  "kernelspec": {
   "display_name": "Python 2",
   "language": "python",
   "name": "python2"
  },
  "language_info": {
   "codemirror_mode": {
    "name": "ipython",
    "version": 2
   },
   "file_extension": ".py",
   "mimetype": "text/x-python",
   "name": "python",
   "nbconvert_exporter": "python",
   "pygments_lexer": "ipython2",
   "version": "2.7.17"
  }
 },
 "nbformat": 4,
 "nbformat_minor": 2
}
