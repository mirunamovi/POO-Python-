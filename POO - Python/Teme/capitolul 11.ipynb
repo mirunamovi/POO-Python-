{
 "cells": [
  {
   "cell_type": "markdown",
   "metadata": {},
   "source": [
    "**11.1** Write a function that reads the words in words.txt and stores them as keys in a\n",
    "dictionary. It doesn’t matter what the values are. Then you can use the in operator as a fast way to\n",
    "check whether a string is in the dictionary.\n"
   ]
  },
  {
   "cell_type": "code",
   "execution_count": 11,
   "metadata": {},
   "outputs": [
    {
     "name": "stdout",
     "output_type": "stream",
     "text": [
      "True\n",
      "True\n",
      "False\n"
     ]
    }
   ],
   "source": [
    "\n",
    "def word_dictionary():\n",
    "    fin = open('words.txt')\n",
    "    l = []\n",
    "    for line in fin:\n",
    "        word = line.strip()\n",
    "        l.append(word)\n",
    "    d = dict.fromkeys(l)\n",
    "    return d\n",
    "\n",
    "def search_dictionary(string, dictionary):\n",
    "    if string in dictionary:\n",
    "        return True\n",
    "    return False\n",
    "\n",
    "z = word_dictionary()\n",
    "print search_dictionary('house', z)\n",
    "print search_dictionary('banana', z)\n",
    "print search_dictionary('dulap', z)\n"
   ]
  },
  {
   "cell_type": "markdown",
   "metadata": {},
   "source": [
    "**11.4** Modify reverse_lookup so that it builds and returns a list of all keys that map to\n",
    "v, or an empty list if there are none."
   ]
  },
  {
   "cell_type": "code",
   "execution_count": 13,
   "metadata": {},
   "outputs": [
    {
     "name": "stdout",
     "output_type": "stream",
     "text": [
      "['a', 'c', 'b', 'e']\n"
     ]
    }
   ],
   "source": [
    "def reverse_lookup(d, v):\n",
    "    l = []\n",
    "    for k in d:\n",
    "        if d[k] == v:\n",
    "            l.append(k)\n",
    "    print l\n",
    "z = {'a' : 1, 'b' : 1, 'c' : 1, 'd' : 2, 'e' : 1}\n",
    "reverse_lookup(z, 1)\n",
    " \n"
   ]
  },
  {
   "cell_type": "markdown",
   "metadata": {},
   "source": [
    "**11.6** Run this version of fibonacci and the original with a range of parameters and\n",
    "compare their run times."
   ]
  },
  {
   "cell_type": "code",
   "execution_count": 18,
   "metadata": {},
   "outputs": [
    {
     "name": "stdout",
     "output_type": "stream",
     "text": [
      "8\n"
     ]
    }
   ],
   "source": [
    "known = {0:0, 1:1}\n",
    "\n",
    "def fibonacci(n):\n",
    "    if n in known:\n",
    "        return known[n]\n",
    "    res = fibonacci(n-1) + fibonacci(n-2)\n",
    "    known[n] = res\n",
    "    return res\n",
    "print fibonacci(6)\n"
   ]
  },
  {
   "cell_type": "code",
   "execution_count": 17,
   "metadata": {},
   "outputs": [
    {
     "name": "stdout",
     "output_type": "stream",
     "text": [
      "8\n"
     ]
    }
   ],
   "source": [
    "def fibonacci(n):\n",
    "    if n == 0:\n",
    "        return 0\n",
    "    elif n == 1:\n",
    "        return 1\n",
    "    else:\n",
    "        return fibonacci(n-1) + fibonacci(n-2)\n",
    "print fibonacci(6)"
   ]
  },
  {
   "cell_type": "code",
   "execution_count": null,
   "metadata": {},
   "outputs": [],
   "source": []
  }
 ],
 "metadata": {
  "kernelspec": {
   "display_name": "Python 2",
   "language": "python",
   "name": "python2"
  },
  "language_info": {
   "codemirror_mode": {
    "name": "ipython",
    "version": 2
   },
   "file_extension": ".py",
   "mimetype": "text/x-python",
   "name": "python",
   "nbconvert_exporter": "python",
   "pygments_lexer": "ipython2",
   "version": "2.7.17"
  }
 },
 "nbformat": 4,
 "nbformat_minor": 2
}
