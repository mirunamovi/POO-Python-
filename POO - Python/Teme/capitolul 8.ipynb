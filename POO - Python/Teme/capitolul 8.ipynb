{
 "cells": [
  {
   "cell_type": "markdown",
   "metadata": {},
   "source": [
    "**8.4** Modify find so that it has a third parameter, the index in word where it should start looking."
   ]
  },
  {
   "cell_type": "code",
   "execution_count": 7,
   "metadata": {
    "scrolled": true
   },
   "outputs": [
    {
     "name": "stdout",
     "output_type": "stream",
     "text": [
      "5\n"
     ]
    }
   ],
   "source": [
    "def find(word, letter, index):\n",
    "    while index < len(word):\n",
    "        if word[index] == letter:\n",
    "            return index\n",
    "        index += 1\n",
    "    return -1\n",
    "   \n",
    "print find('banana','a', 4)"
   ]
  },
  {
   "cell_type": "markdown",
   "metadata": {},
   "source": [
    "**8.5** Encapsulate this code in a function named count, and generalize it so that it accepts\n",
    "the string and the letter as arguments."
   ]
  },
  {
   "cell_type": "code",
   "execution_count": 9,
   "metadata": {},
   "outputs": [
    {
     "name": "stdout",
     "output_type": "stream",
     "text": [
      "3\n",
      "1\n",
      "2\n",
      "0\n"
     ]
    }
   ],
   "source": [
    "def count(word, letter):\n",
    "    count = 0\n",
    "    for i in word:\n",
    "        if i == letter:\n",
    "            count += 1\n",
    "    print count \n",
    "\n",
    "count('banana', 'a')\n",
    "count('banana', 'b')\n",
    "count('banana', 'n')\n",
    "count('banana', 'z')\n"
   ]
  },
  {
   "cell_type": "markdown",
   "metadata": {},
   "source": [
    " **8.6** Rewrite this function so that instead of traversing the string, it uses the threeparameter version of find from the previous section.\n"
   ]
  },
  {
   "cell_type": "code",
   "execution_count": 28,
   "metadata": {},
   "outputs": [
    {
     "name": "stdout",
     "output_type": "stream",
     "text": [
      "5\n"
     ]
    }
   ],
   "source": [
    "def find(word, letter, index):\n",
    "    while index < len(word):\n",
    "        if word[index] == letter:\n",
    "            c = index\n",
    "            return c\n",
    "        index += 1\n",
    "    return -1\n",
    "\n",
    "def count(word, letter):\n",
    "    count = 0\n",
    "    index = 0\n",
    "    while find(word, letter, index) > 0:\n",
    "        index += 1\n",
    "        count += 1\n",
    "    print count \n",
    "    \n",
    "count('banana', 'n')"
   ]
  }
 ],
 "metadata": {
  "kernelspec": {
   "display_name": "Python 2",
   "language": "python",
   "name": "python2"
  },
  "language_info": {
   "codemirror_mode": {
    "name": "ipython",
    "version": 2
   },
   "file_extension": ".py",
   "mimetype": "text/x-python",
   "name": "python",
   "nbconvert_exporter": "python",
   "pygments_lexer": "ipython2",
   "version": "2.7.17"
  }
 },
 "nbformat": 4,
 "nbformat_minor": 2
}
