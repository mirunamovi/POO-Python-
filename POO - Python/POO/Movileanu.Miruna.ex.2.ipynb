{
 "cells": [
  {
   "cell_type": "code",
   "execution_count": 44,
   "metadata": {
    "scrolled": false
   },
   "outputs": [
    {
     "name": "stdout",
     "output_type": "stream",
     "text": [
      "Fractia arata de forma:  8 / 5 .\n",
      "Fractia simplificata arata de forma:  8 / 5 .\n",
      "Valoarea zecimala a functiei este:  0.6 .\n",
      "Suma celor doua fractii :  8 / 5 + 20 / 3 = 124 / 15 .\n",
      "Valoarea procentuala a fractiei  8 / 5  este de  160.0 %.\n"
     ]
    }
   ],
   "source": [
    "class Fractie(object):\n",
    "    \"\"\" atribute: numitor, numarator\"\"\"\n",
    "    \n",
    "    def __init__(self, numarator = 0, numitor = 1):\n",
    "        self.numarator = numarator\n",
    "        self.numitor = numitor\n",
    "    \n",
    "    def verificare(self):\n",
    "        if type(self.numarator) == int:\n",
    "            if type(self.numitor) == int:\n",
    "                return True\n",
    "        return False \n",
    "    \n",
    "    def __str__(self):\n",
    "        if self.verificare():\n",
    "                return '%g / %g' % (self.numarator, self.numitor)\n",
    "    \n",
    "    def cmmdc(self):\n",
    "        a = self.numarator\n",
    "        b = self.numitor\n",
    "        while a!=b:\n",
    "            if a > b:\n",
    "                a -= b           \n",
    "            else:\n",
    "                b -= a\n",
    "        return a;\n",
    "    \n",
    "    def simplificare(self):\n",
    "        t = self.cmmdc()\n",
    "        if t > 1:\n",
    "            self.numitor /= t\n",
    "            self.numarator /= t\n",
    "        return self\n",
    "    \n",
    "    def zecimale(self):\n",
    "        y = 1.0 * self.numarator / self.numitor \n",
    "        return y - int(y)\n",
    "    \n",
    "    def __add__(self, other):\n",
    "        if self.numitor == other.numitor:\n",
    "            numarator = self.numarator + other.numarator\n",
    "            return Fractie(numarator, self.numitor)\n",
    "        else: \n",
    "            x = self.numarator * other.numitor + self.numitor * other.numarator\n",
    "            y = self.numitor * other.numitor\n",
    "            z = Fractie(x, y)\n",
    "            return z.simplificare()\n",
    "        \n",
    "    def val_procent(self):\n",
    "        return self.numarator * 100.0/ self.numitor\n",
    "\n",
    "        \n",
    "x = Fractie(8, 5)      \n",
    "y = Fractie(20, 3)\n",
    "print \"Fractia arata de forma: \", x, \".\"\n",
    "print \"Fractia simplificata arata de forma: \", x.simplificare(), \".\"\n",
    "print \"Valoarea zecimala a functiei este: \", x.zecimale(), \".\"\n",
    "print \"Suma celor doua fractii : \", x, \"+\", y, \"=\", x + y, \".\"\n",
    "print \"Valoarea procentuala a fractiei \", x, \" este de \", x.val_procent(), \"%.\""
   ]
  },
  {
   "cell_type": "code",
   "execution_count": null,
   "metadata": {},
   "outputs": [],
   "source": []
  }
 ],
 "metadata": {
  "kernelspec": {
   "display_name": "Python 2",
   "language": "python",
   "name": "python2"
  },
  "language_info": {
   "codemirror_mode": {
    "name": "ipython",
    "version": 2
   },
   "file_extension": ".py",
   "mimetype": "text/x-python",
   "name": "python",
   "nbconvert_exporter": "python",
   "pygments_lexer": "ipython2",
   "version": "2.7.17"
  }
 },
 "nbformat": 4,
 "nbformat_minor": 2
}
