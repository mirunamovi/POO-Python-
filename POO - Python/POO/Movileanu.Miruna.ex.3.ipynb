{
 "cells": [
  {
   "cell_type": "code",
   "execution_count": 50,
   "metadata": {},
   "outputs": [
    {
     "name": "stdout",
     "output_type": "stream",
     "text": [
      "15 EURO & 30 CENTS\n",
      "Valoarea sumei in centi:  1530\n",
      "Valoarea centilor in suma:  15 EURO & 30 CENTS\n",
      "Valorea obtinuta pornind de la suma de  15 EURO & 30 CENTS , dupa 2 ani, cu o dobanda de 2,5% pe luna este de:  16 EURO & 7.45625 CENTS\n"
     ]
    }
   ],
   "source": [
    "\n",
    "class Bani(object):\n",
    "    \"\"\" euro and cents\"\"\"\n",
    "    def __init__(self, euro = 0, cents = 0):\n",
    "        self.euro = euro\n",
    "        self.cents = cents\n",
    "        \n",
    "    def sum_to_cents(self):\n",
    "        centi = self.euro*100 + self.cents\n",
    "        return centi \n",
    "         \n",
    "    def __add__(self, other):\n",
    "        bani_ = Bani()\n",
    "        bani_.euro += self.euro + other.euro\n",
    "        bani_.cents += self.cents + other.cents\n",
    "        return bani_\n",
    "    \n",
    "    def __radd__(self, other):\n",
    "        return self.__add__(other)\n",
    "    \n",
    "    def verificare(self):\n",
    "        if self.cents >= 100:\n",
    "            while self.cents >= 100:\n",
    "                self.euro += 1\n",
    "                self.cents -= 100\n",
    "        return True \n",
    "        \n",
    "    def __str__(self):\n",
    "        if self.verificare():         \n",
    "            return '%g EURO & %g CENTS' %(self.euro, self.cents)\n",
    "        \n",
    "    \n",
    "def rata_banca(centi, n, p):\n",
    "    return centi * (1 + p/100.0)**n \n",
    "    \n",
    "\n",
    "def cents_to_sum(centi):\n",
    "    new_money = Bani()\n",
    "    new_money.cents = centi % 100\n",
    "    new_money.euro = (centi - new_money.cents)/100\n",
    "    return new_money\n",
    "    \n",
    "    \n",
    "suma_bani1 = Bani(15, 30)\n",
    "print suma_bani1\n",
    "print \"Valoarea sumei in centi: \", suma_bani1.sum_to_cents()\n",
    "print \"Valoarea centilor in suma: \", cents_to_sum(suma_bani1.sum_to_cents())\n",
    "x = rata_banca(suma_bani1.sum_to_cents(), 2, 2.5)\n",
    "y = cents_to_sum(x)\n",
    "if y.verificare():\n",
    "    print \"Valorea obtinuta pornind de la suma de \", suma_bani1, \", dupa 2 ani, cu o dobanda de 2,5% pe luna este de: \", y\n"
   ]
  },
  {
   "cell_type": "code",
   "execution_count": null,
   "metadata": {},
   "outputs": [],
   "source": []
  }
 ],
 "metadata": {
  "kernelspec": {
   "display_name": "Python 2",
   "language": "python",
   "name": "python2"
  },
  "language_info": {
   "codemirror_mode": {
    "name": "ipython",
    "version": 2
   },
   "file_extension": ".py",
   "mimetype": "text/x-python",
   "name": "python",
   "nbconvert_exporter": "python",
   "pygments_lexer": "ipython2",
   "version": "2.7.17"
  }
 },
 "nbformat": 4,
 "nbformat_minor": 2
}
