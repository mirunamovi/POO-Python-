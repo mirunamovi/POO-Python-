{
 "cells": [
  {
   "cell_type": "code",
   "execution_count": 1,
   "metadata": {},
   "outputs": [
    {
     "name": "stdout",
     "output_type": "stream",
     "text": [
      "[2, 3, 5, 7, 11, 13, 17, 19, 23, 29, 31, 37, 41, 43, 47, 53, 59, 61, 67, 71, 73, 79, 83, 89, 97]\n"
     ]
    }
   ],
   "source": [
    "#partial.8\n",
    "\n",
    "def Eratostene(n):\n",
    "    a = range(2,n+1)\n",
    "    b = [2]\n",
    "    for i in a:\n",
    "        ok = 0\n",
    "        for j in b:\n",
    "            if (i % j) == 0:\n",
    "                ok = 1\n",
    "        if ok == 0:\n",
    "            b.append(i)\n",
    "    print b\n",
    "Eratostene(100)            \n",
    "        "
   ]
  },
  {
   "cell_type": "code",
   "execution_count": 7,
   "metadata": {},
   "outputs": [
    {
     "name": "stdout",
     "output_type": "stream",
     "text": [
      "2\n"
     ]
    }
   ],
   "source": [
    "#partial.9.1\n",
    "\n",
    "word = 'ACTGCTATCCATT'\n",
    "def count_pairs (adn, pereche):\n",
    "    counter = 0\n",
    "    while adn.find(pereche) > -1:\n",
    "        adn = adn[adn.find(pereche) + len(pereche) : len(adn)]\n",
    "        counter += 1\n",
    "    print counter\n",
    "count_pairs ('ACTGCTATCCATT', 'AT')\n",
    "   \n",
    "\n",
    "\n"
   ]
  },
  {
   "cell_type": "code",
   "execution_count": 1,
   "metadata": {},
   "outputs": [
    {
     "name": "stdout",
     "output_type": "stream",
     "text": [
      "Pretul cartii: 24.95\n",
      "Cat la suta din pretul cartii este redus: 40\n",
      "Costul transportului pentru prima carte: 3\n",
      "Costul transportului pentru restul cartilor: 0.75\n",
      "Cate exemplare doriti: 60\n",
      "945.45\n"
     ]
    }
   ],
   "source": [
    "#partial.10\n",
    "    \n",
    "\n",
    "pretcarte = float(input(\"Pretul cartii: \"))\n",
    "reducere = float(input(\"Cat la suta din pretul cartii este redus: \"))\n",
    "pretexpediere1 = float(input(\"Costul transportului pentru prima carte: \"))\n",
    "pretexpedieren = float(input(\"Costul transportului pentru restul cartilor: \"))\n",
    "exemplare = float(input(\"Cate exemplare doriti: \"))\n",
    "\n",
    "prettotal = exemplare * (pretcarte - pretcarte*reducere/100.0 ) + pretexpediere1 + (exemplare - 1) * pretexpedieren       \n",
    "print prettotal"
   ]
  },
  {
   "cell_type": "code",
   "execution_count": 7,
   "metadata": {},
   "outputs": [
    {
     "name": "stdout",
     "output_type": "stream",
     "text": [
      "False\n",
      "True\n",
      "True\n"
     ]
    }
   ],
   "source": [
    "#partial.11\n",
    "\n",
    "def palindrom(s):\n",
    "    j = len(s) - 1\n",
    "    for i in s:\n",
    "        if not i == s[j]:\n",
    "            return False \n",
    "        else:\n",
    "            j -= 1\n",
    "    return True\n",
    "print palindrom('banana')\n",
    "print palindrom('anna')\n",
    "print palindrom('elenofonele')\n",
    "\n",
    "            \n",
    "        \n",
    "\n"
   ]
  },
  {
   "cell_type": "code",
   "execution_count": 8,
   "metadata": {},
   "outputs": [
    {
     "name": "stdout",
     "output_type": "stream",
     "text": [
      "1\n",
      "2\n",
      "4\n"
     ]
    }
   ],
   "source": [
    "#partial.12\n",
    "\n",
    "def cmmdc(a, b):\n",
    "    while not a == b:\n",
    "        if a > b:\n",
    "            a = a - b\n",
    "        else:\n",
    "            b = b - a\n",
    "    return a\n",
    "print cmmdc(23,2)\n",
    "print cmmdc(14, 50)\n",
    "print cmmdc(12, 16)"
   ]
  },
  {
   "cell_type": "code",
   "execution_count": 23,
   "metadata": {},
   "outputs": [
    {
     "name": "stdout",
     "output_type": "stream",
     "text": [
      "1.0  1.0  \t1.0  \t0.0\n",
      "2.0  1.41421356237  \t1.41421356237  \t2.22044604925e-16\n",
      "3.0  1.73205080757  \t1.73205080757  \t0.0\n",
      "4.0  2.0  \t2.0  \t0.0\n",
      "5.0  2.2360679775  \t2.2360679775  \t0.0\n",
      "6.0  2.44948974278  \t2.44948974278  \t0.0\n",
      "7.0  2.64575131106  \t2.64575131106  \t0.0\n",
      "8.0  2.82842712475  \t2.82842712475  \t4.4408920985e-16\n",
      "9.0  3.0  \t3.0  \t0.0\n",
      "10.0  3.16227766017  \t3.16227766017  \t4.4408920985e-16\n",
      "11.0  3.31662479036  \t3.31662479036  \t0.0\n"
     ]
    }
   ],
   "source": [
    "#partial.13\n",
    "\n",
    "from tabulate import tabulate\n",
    "\n",
    "def square_root(a,x):\n",
    "    y = (x + a/x) / 2  \n",
    "    epsilon = 0.00000001\n",
    "    if abs(y-x) < epsilon:\n",
    "        return y\n",
    "    return square_root(a,y)\n",
    "\n",
    "import math \n",
    "def test_square_root(k):\n",
    "    n = float(1)\n",
    "    while(n!=k):\n",
    "        print n, \"\", math.sqrt(n), \" \\t\", square_root(n,3), \" \\t\",  abs(math.sqrt(n) - square_root(n,3))\n",
    "        n = n + 1\n",
    "\n",
    "test_square_root(12)        \n",
    "        "
   ]
  },
  {
   "cell_type": "code",
   "execution_count": 30,
   "metadata": {
    "scrolled": true
   },
   "outputs": [
    {
     "name": "stdout",
     "output_type": "stream",
     "text": [
      "i \t\n",
      "u \t\n",
      "l \t\n",
      "u \t\n",
      "i \t\n",
      "a \t\n",
      "r \t\n",
      "c \t\n",
      "a \t\n",
      "r \t\n",
      "t \t\n",
      "a \t\n",
      "i \t\n",
      "p \t\n"
     ]
    }
   ],
   "source": [
    "#partial.14\n",
    "\n",
    "def reverse_string(s):\n",
    "    s = s[::-1]\n",
    "    for i in s:\n",
    "        print i,\"\\t\"\n",
    "reverse_string('piatracraiului')\n"
   ]
  },
  {
   "cell_type": "code",
   "execution_count": 31,
   "metadata": {},
   "outputs": [
    {
     "name": "stdout",
     "output_type": "stream",
     "text": [
      "30\n"
     ]
    }
   ],
   "source": [
    "#partial.15\n",
    "\n",
    "def suma_liste(t):\n",
    "    s = 0\n",
    "    for i in t:\n",
    "        for j in i:\n",
    "            s += j\n",
    "    print s\n",
    "suma_liste([[1,2,3], [8, 6], [10]])"
   ]
  },
  {
   "cell_type": "code",
   "execution_count": 67,
   "metadata": {},
   "outputs": [
    {
     "name": "stdout",
     "output_type": "stream",
     "text": [
      "Lista este neordonata\n",
      "Lista este ordonata crescator\n"
     ]
    }
   ],
   "source": [
    "#partial.16\n",
    "\n",
    "import copy  \n",
    "\n",
    "def ordonare_crescatoare(t):\n",
    "    k, q = 0, 0\n",
    "    index = 0\n",
    "    t1 = copy.copy(t)\n",
    "    t1.sort()\n",
    "    t2 = copy.copy(t1)\n",
    "    t2.reverse()\n",
    "    for i in t:\n",
    "        if i == t1[index]:\n",
    "            k += 1 \n",
    "        if i == t2[index]:\n",
    "            q += 1\n",
    "        index += 1\n",
    "    if k == len(t):\n",
    "        print 'Lista este ordonata crescator'\n",
    "    elif q == len(t):\n",
    "        print 'Lista este ordonata descrescator'\n",
    "    else:\n",
    "        print 'Lista este neordonata'\n",
    "ordonare_crescatoare(['a', 'b', 'A', 'd', 'e'])\n",
    "ordonare_crescatoare([1, 2, '1', 'A'])\n",
    "        \n",
    " \n",
    "        \n",
    "        "
   ]
  },
  {
   "cell_type": "code",
   "execution_count": 86,
   "metadata": {},
   "outputs": [
    {
     "name": "stdout",
     "output_type": "stream",
     "text": [
      "Cele doua cuvinte sunt anagrame\n"
     ]
    }
   ],
   "source": [
    "#partial.17\n",
    "\n",
    "def anagrame (a, s):\n",
    "    for i in a:\n",
    "        if i not in s:\n",
    "            print 'Cele doua cuvinte nu sunt anagrame'\n",
    "    print 'Cele doua cuvinte sunt anagrame'\n",
    "anagrame ('banana', 'nnaaab')            \n",
    "       \n",
    "            \n",
    "\n",
    "   "
   ]
  },
  {
   "cell_type": "code",
   "execution_count": null,
   "metadata": {},
   "outputs": [],
   "source": [
    "#partial.18\n",
    "\n",
    "import math  \n",
    "\n",
    "def ecuatie_grad2(a, b, c):\n",
    "    delta = b**2 - 4 * a * c\n",
    "    print 'delta= ', delta\n",
    "    if delta > 0:\n",
    "        x1 = ((-1)*b + math.sqrt(delta))/(2.0*a)\n",
    "        x2 = ((-1)*b - math.sqrt(delta))/(2.0*a)\n",
    "        print 'Solutiile ecuatiei este: ', x1, 'si', x2\n",
    "    elif delta == 0:\n",
    "        x = (-1)*b/(2.0*a)\n",
    "        print 'Solutia ecuatiei este: ', x\n",
    "\n",
    "    else:\n",
    "        print 'Solutiile ecuatiei sunt :', (-1)*b/(2.0*a), ' + i', math.sqrt(abs(delta))/(2.0*a), ' si ',(-1)*b/(2.0*a), ' - i', math.sqrt(abs(delta))/(2.0*a) \n",
    "ecuatie_grad2(1, -1, 5)        \n",
    "ecuatie_grad2(1, 2, 1)\n",
    "ecuatie_grad2(1, -5, 6)        \n",
    "        \n",
    "\n",
    "    "
   ]
  },
  {
   "cell_type": "code",
   "execution_count": 2,
   "metadata": {},
   "outputs": [
    {
     "name": "stdout",
     "output_type": "stream",
     "text": [
      "Stabiliti o valoare maxima a numerelor din joc: 10\n",
      "Stabiliti din cate incercari doriti sa jucati:  3\n",
      "value=  1\n",
      "Dati o valoare 3\n",
      "Mai mic\n",
      "Mai ai  2 vieti\n",
      "Dati o valoare 5\n",
      "Mai mic\n",
      "Mai ai  1 vieti\n",
      "Dati o valoare 4\n",
      "Game over :(\n"
     ]
    }
   ],
   "source": [
    "#partial.19\n",
    "\n",
    "from random import shuffle\n",
    "\n",
    "def ghiceste_numarul(n, k):\n",
    "    l = []\n",
    "    for i in range(1, n):\n",
    "        l.append(i)\n",
    "    shuffle(l)\n",
    "    value = l[n/2]\n",
    "    print 'value= ', value\n",
    "    a = range(0, k)\n",
    "    a.reverse()\n",
    "    for i in a:\n",
    "        x = int(input(\"Dati o valoare \"))\n",
    "        if i == 0:\n",
    "            if not value == x:\n",
    "                print 'Game over :('\n",
    "                return\n",
    "        if value == x:\n",
    "            print 'Felicitari!! Ati ghicit numarul :)'\n",
    "            return -1\n",
    "        if x > n:\n",
    "            print 'Iti reamintesc ca limita jocului este pana la ', n\n",
    "            print 'Mai ai ', i, 'vieti'\n",
    "        elif x > value: \n",
    "            print 'Mai mic'\n",
    "            print 'Mai ai ', i, 'vieti'\n",
    "        elif x < value:\n",
    "            print 'Mai mare'\n",
    "            print 'Mai ai ', i, 'vieti'\n",
    "    \n",
    "        \n",
    "        \n",
    "x = int(input(\"Stabiliti o valoare maxima a numerelor din joc: \"))\n",
    "\n",
    "y = int(input(\"Stabiliti din cate incercari doriti sa jucati:  \"))\n",
    "ghiceste_numarul(x, y)"
   ]
  },
  {
   "cell_type": "code",
   "execution_count": null,
   "metadata": {},
   "outputs": [],
   "source": [
    "#partial.20\n",
    "\n",
    "def lista_div(lista,k):\n",
    "    for i in range(len(lista)):\n",
    "        if type(lista[i]) == int && "
   ]
  }
 ],
 "metadata": {
  "kernelspec": {
   "display_name": "Python 2",
   "language": "python",
   "name": "python2"
  },
  "language_info": {
   "codemirror_mode": {
    "name": "ipython",
    "version": 2
   },
   "file_extension": ".py",
   "mimetype": "text/x-python",
   "name": "python",
   "nbconvert_exporter": "python",
   "pygments_lexer": "ipython2",
   "version": "2.7.17"
  }
 },
 "nbformat": 4,
 "nbformat_minor": 2
}
